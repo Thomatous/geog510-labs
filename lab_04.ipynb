{
 "cells": [
  {
   "cell_type": "markdown",
   "metadata": {
    "id": "fY2_2AzUvLJO"
   },
   "source": [
    "# Lab 4\n",
    "\n",
    "[![Open In Colab](https://colab.research.google.com/assets/colab-badge.svg)](https://colab.research.google.com/github/Thomatous/colab-badge-test/blob/main/labs/lab_4.ipynb)"
   ]
  },
  {
   "cell_type": "markdown",
   "metadata": {
    "id": "3JQ1kiYyvLJP"
   },
   "source": [
    "## Exercise 1: Variable Assignment and Basic Operations\n",
    "\n",
    "Create variables to store the following geospatial data:\n",
    "\n",
    "- The latitude and longitude of New York City: 40.7128, -74.0060.\n",
    "- The population of New York City: 8,336,817.\n",
    "- The area of New York City in square kilometers: 783.8.\n",
    "\n",
    "Perform the following tasks:\n",
    "\n",
    "1. Calculate and print the population density of New York City (population per square kilometer).\n",
    "2. Print the coordinates in the format \"Latitude: [latitude], Longitude: [longitude]\"."
   ]
  },
  {
   "cell_type": "code",
   "execution_count": 9,
   "metadata": {
    "colab": {
     "base_uri": "https://localhost:8080/"
    },
    "executionInfo": {
     "elapsed": 8,
     "status": "ok",
     "timestamp": 1748100330471,
     "user": {
      "displayName": "Thomas",
      "userId": "11810939765377906359"
     },
     "user_tz": -180
    },
    "id": "b75f_1cuvLJP",
    "outputId": "31c72190-6ba8-4258-e92f-a5bcf6be15c2"
   },
   "outputs": [
    {
     "name": "stdout",
     "output_type": "stream",
     "text": [
      "New York's population density: 10636.408522582293\n",
      "Latitude: 40.7128, Longtitude: -74.006.\n"
     ]
    }
   ],
   "source": [
    "latitude: float = 40.7128\n",
    "longtitude: float = -74.0060\n",
    "population: int = 8336817\n",
    "area: float = 783.8\n",
    "\n",
    "print(f\"New York's population density: {population / area}\")\n",
    "print(f\"Latitude: {latitude}, Longtitude: {longtitude}.\")"
   ]
  },
  {
   "cell_type": "markdown",
   "metadata": {
    "id": "knDnprtrvLJP"
   },
   "source": [
    "## Exercise 2: Working with Strings\n",
    "\n",
    "Create a string variable to store the name of a city, such as \"San Francisco\". Perform the following operations:\n",
    "\n",
    "1. Convert the string to lowercase and print the result.\n",
    "2. Convert the string to uppercase and print the result.\n",
    "3. Replace \"San\" with \"Los\" in the city name and print the new string."
   ]
  },
  {
   "cell_type": "code",
   "execution_count": 10,
   "metadata": {
    "colab": {
     "base_uri": "https://localhost:8080/"
    },
    "executionInfo": {
     "elapsed": 5,
     "status": "ok",
     "timestamp": 1748100333243,
     "user": {
      "displayName": "Thomas",
      "userId": "11810939765377906359"
     },
     "user_tz": -180
    },
    "id": "iZ7hiSOVvLJQ",
    "outputId": "dea18588-a831-4851-9b6f-c7e608812197"
   },
   "outputs": [
    {
     "name": "stdout",
     "output_type": "stream",
     "text": [
      "Original name: San Francisco\n",
      "Lower case name: san francisco\n",
      "Upper case name: SAN FRANCISCO\n",
      "Shuffled name: Los Francisco\n"
     ]
    }
   ],
   "source": [
    "name: str = \"San Francisco\"\n",
    "print(f\"Original name: {name}\")\n",
    "print(f\"Lower case name: {name.lower()}\")\n",
    "print(f\"Upper case name: {name.upper()}\")\n",
    "print(f\"Shuffled name: {name.replace('San', 'Los')}\")"
   ]
  },
  {
   "cell_type": "markdown",
   "metadata": {
    "id": "E1p96nmcvLJQ"
   },
   "source": [
    "## Exercise 3: Using Lists\n",
    "\n",
    "Create a list of tuples, where each tuple contains the name of a city and its corresponding latitude and longitude:\n",
    "\n",
    "- New York City: (40.7128, -74.0060)\n",
    "- Los Angeles: (34.0522, -118.2437)\n",
    "- Chicago: (41.8781, -87.6298)\n",
    "\n",
    "Perform the following tasks:\n",
    "\n",
    "1. Add a new city (e.g., Miami: (25.7617, -80.1918)) to the list.\n",
    "2. Print the entire list of cities.\n",
    "3. Slice the list to print only the first two cities."
   ]
  },
  {
   "cell_type": "code",
   "execution_count": 11,
   "metadata": {
    "colab": {
     "base_uri": "https://localhost:8080/"
    },
    "executionInfo": {
     "elapsed": 5,
     "status": "ok",
     "timestamp": 1748100335305,
     "user": {
      "displayName": "Thomas",
      "userId": "11810939765377906359"
     },
     "user_tz": -180
    },
    "id": "vSaCVK0yvLJQ",
    "outputId": "fa452bf4-dd7c-4950-a07d-9e4ec0df57a3"
   },
   "outputs": [
    {
     "name": "stdout",
     "output_type": "stream",
     "text": [
      "City list: [('New York City', 40.7128, -74.006), ('Los Angeles', 34.0522, -118.2437), ('Chicago', 41.8781, -87.6298), ('Miami', 25.7617, -80.1918)]\n",
      "Sliced list: [('New York City', 40.7128, -74.006), ('Los Angeles', 34.0522, -118.2437)]\n"
     ]
    }
   ],
   "source": [
    "from typing import List, Tuple\n",
    "\n",
    "city_list: List[Tuple[str, float, float]] = [(\"New York City\", 40.7128, -74.0060), (\"Los Angeles\", 34.0522, -118.2437), (\"Chicago\", 41.8781, -87.6298)]\n",
    "\n",
    "city_list.append((\"Miami\", 25.7617, -80.1918))\n",
    "\n",
    "print(f\"City list: {city_list}\")\n",
    "print(f\"Sliced list: {city_list[:2]}\")"
   ]
  },
  {
   "cell_type": "markdown",
   "metadata": {
    "id": "QwK7hLsMvLJQ"
   },
   "source": [
    "## Exercise 4: Using Tuples\n",
    "\n",
    "Create a tuple to store the coordinates (latitude, longitude) of the Eiffel Tower: (48.8584, 2.2945). Perform the following tasks:\n",
    "\n",
    "1. Access and print the latitude and longitude values from the tuple.\n",
    "2. Try to change the latitude value to 48.8585. What happens? Explain why."
   ]
  },
  {
   "cell_type": "code",
   "execution_count": 12,
   "metadata": {
    "colab": {
     "base_uri": "https://localhost:8080/",
     "height": 180
    },
    "executionInfo": {
     "elapsed": 19,
     "status": "error",
     "timestamp": 1748100341525,
     "user": {
      "displayName": "Thomas",
      "userId": "11810939765377906359"
     },
     "user_tz": -180
    },
    "id": "qCw1eAi1vLJR",
    "outputId": "1d59935d-8dd7-43a0-b331-8691240545ce"
   },
   "outputs": [
    {
     "ename": "TypeError",
     "evalue": "'tuple' object does not support item assignment",
     "output_type": "error",
     "traceback": [
      "\u001b[1;31m---------------------------------------------------------------------------\u001b[0m",
      "\u001b[1;31mTypeError\u001b[0m                                 Traceback (most recent call last)",
      "Cell \u001b[1;32mIn[12], line 4\u001b[0m\n\u001b[0;32m      1\u001b[0m \u001b[38;5;28;01mfrom\u001b[39;00m \u001b[38;5;21;01mtyping\u001b[39;00m \u001b[38;5;28;01mimport\u001b[39;00m Tuple\n\u001b[0;32m      3\u001b[0m eiffel_tower_coords: Tuple[\u001b[38;5;28mfloat\u001b[39m, \u001b[38;5;28mfloat\u001b[39m] \u001b[38;5;241m=\u001b[39m (\u001b[38;5;241m48.8584\u001b[39m, \u001b[38;5;241m2.2945\u001b[39m)\n\u001b[1;32m----> 4\u001b[0m \u001b[43meiffel_tower_coords\u001b[49m\u001b[43m[\u001b[49m\u001b[38;5;241;43m0\u001b[39;49m\u001b[43m]\u001b[49m \u001b[38;5;241m=\u001b[39m \u001b[38;5;241m48.8585\u001b[39m\n",
      "\u001b[1;31mTypeError\u001b[0m: 'tuple' object does not support item assignment"
     ]
    }
   ],
   "source": [
    "from typing import Tuple\n",
    "\n",
    "eiffel_tower_coords: Tuple[float, float] = (48.8584, 2.2945)\n",
    "eiffel_tower_coords[0] = 48.8585"
   ]
  },
  {
   "cell_type": "markdown",
   "metadata": {
    "id": "MIDCfVV_4KTQ"
   },
   "source": [
    "Tuples in python are an immutable data type, meaning that we can't change any of the initially assigned values."
   ]
  },
  {
   "cell_type": "markdown",
   "metadata": {
    "id": "nW_NcjCrvLJR"
   },
   "source": [
    "## Exercise 5: Working with Sets\n",
    "\n",
    "Create a set of countries you have visited, such as {\"USA\", \"France\", \"Germany\"}. Perform the following tasks:\n",
    "\n",
    "1. Add a new country to the set.\n",
    "2. Try to add the same country again. What happens?\n",
    "3. Print the updated set."
   ]
  },
  {
   "cell_type": "code",
   "execution_count": null,
   "metadata": {
    "colab": {
     "base_uri": "https://localhost:8080/"
    },
    "executionInfo": {
     "elapsed": 10,
     "status": "ok",
     "timestamp": 1748100345319,
     "user": {
      "displayName": "Thomas",
      "userId": "11810939765377906359"
     },
     "user_tz": -180
    },
    "id": "RnxS8Wb7vLJR",
    "outputId": "2255011e-31db-4162-e709-0d12ccce3c64"
   },
   "outputs": [
    {
     "name": "stdout",
     "output_type": "stream",
     "text": [
      "Countries: {'USA', 'Greece', 'Germany', 'France'}\n"
     ]
    }
   ],
   "source": [
    "countries = set({\"USA\", \"France\", \"Germany\"})\n",
    "\n",
    "countries.add(\"Greece\")\n",
    "countries.add(\"USA\")\n",
    "\n",
    "print(f\"Countries: {countries}\")"
   ]
  },
  {
   "cell_type": "markdown",
   "metadata": {
    "id": "4Rkehbe649tX"
   },
   "source": [
    "Adding an already existing value to a set in python doesn't do anything because a set can only include one instance of each unique value."
   ]
  },
  {
   "cell_type": "markdown",
   "metadata": {
    "id": "fWdd2qWLvLJS"
   },
   "source": [
    "## Exercise 6: Working with Dictionaries\n",
    "\n",
    "Create a dictionary to store information about a specific geospatial feature, such as a river:\n",
    "\n",
    "- Name: \"Amazon River\"\n",
    "- Length: 6400 km\n",
    "- Countries: [\"Brazil\", \"Peru\", \"Colombia\"]\n",
    "\n",
    "Perform the following tasks:\n",
    "\n",
    "1. Add a new key-value pair to the dictionary to store the river's average discharge (e.g., 209,000 m³/s).\n",
    "2. Update the length of the river to 6992 km.\n",
    "3. Print the dictionary."
   ]
  },
  {
   "cell_type": "code",
   "execution_count": null,
   "metadata": {
    "colab": {
     "base_uri": "https://localhost:8080/"
    },
    "executionInfo": {
     "elapsed": 45,
     "status": "ok",
     "timestamp": 1748101246920,
     "user": {
      "displayName": "Thomas",
      "userId": "11810939765377906359"
     },
     "user_tz": -180
    },
    "id": "zlvf1H57vLJS",
    "outputId": "289076ef-7204-471c-dc62-02d7bf000a9a"
   },
   "outputs": [
    {
     "name": "stdout",
     "output_type": "stream",
     "text": [
      "{'name': 'Amazon', 'length': 6992, 'countries': ['Brazil', 'Peru', 'Colombia'], 'average_discharge': 209000}\n"
     ]
    }
   ],
   "source": [
    "amazon_river: dict = {\n",
    "    \"name\": \"Amazon\",\n",
    "    \"length\": 6400,\n",
    "    \"countries\": [\"Brazil\", \"Peru\", \"Colombia\"]\n",
    "}\n",
    "\n",
    "amazon_river[\"average_discharge\"] = 209000\n",
    "amazon_river[\"length\"] = 6992\n",
    "\n",
    "print(amazon_river)"
   ]
  },
  {
   "cell_type": "markdown",
   "metadata": {
    "id": "Wwz9cse6vLJS"
   },
   "source": [
    "## Exercise 7: Nested Data Structures\n",
    "\n",
    "Create a dictionary to represent a city that contains the city's name, population, and coordinates (latitude, longitude):\n",
    "\n",
    "- Name: \"Tokyo\"\n",
    "- Population: 13,515,271\n",
    "- Coordinates: (35.6895, 139.6917)\n",
    "\n",
    "Perform the following tasks:\n",
    "\n",
    "1. Access and print the population of the city.\n",
    "2. Access and print the city's latitude.\n",
    "3. Update the population to 14,000,000 and print the updated dictionary."
   ]
  },
  {
   "cell_type": "code",
   "execution_count": null,
   "metadata": {
    "colab": {
     "base_uri": "https://localhost:8080/"
    },
    "executionInfo": {
     "elapsed": 5,
     "status": "ok",
     "timestamp": 1748100672063,
     "user": {
      "displayName": "Thomas",
      "userId": "11810939765377906359"
     },
     "user_tz": -180
    },
    "id": "2iIIG_ZXvLJS",
    "outputId": "67344f79-4deb-4c46-fda4-92b6e5b165a6"
   },
   "outputs": [
    {
     "name": "stdout",
     "output_type": "stream",
     "text": [
      "13515271\n",
      "35.6895\n",
      "{'name': 'Tokyo', 'population': 14000000, 'coordinates': (35.6895, 139.6917)}\n"
     ]
    }
   ],
   "source": [
    "city: dict = {\n",
    "    \"name\": \"Tokyo\",\n",
    "    \"population\": 13515271,\n",
    "    \"coordinates\": (35.6895, 139.6917)\n",
    "}\n",
    "\n",
    "print(city[\"population\"])\n",
    "print(city[\"coordinates\"][0])\n",
    "\n",
    "city[\"population\"] = 14000000\n",
    "\n",
    "print(city)"
   ]
  },
  {
   "cell_type": "markdown",
   "metadata": {
    "id": "cOOg5ipqvLJS"
   },
   "source": [
    "## Exercise 8: List Operations\n",
    "\n",
    "Given the list of cities from Exercise 3, perform the following operations:\n",
    "\n",
    "1. Sort the list of cities alphabetically by name.\n",
    "2. Create a new list that contains only the city names.\n",
    "3. Remove the last city from the original list and print the updated list."
   ]
  },
  {
   "cell_type": "code",
   "execution_count": null,
   "metadata": {
    "colab": {
     "base_uri": "https://localhost:8080/"
    },
    "executionInfo": {
     "elapsed": 3,
     "status": "ok",
     "timestamp": 1748101202570,
     "user": {
      "displayName": "Thomas",
      "userId": "11810939765377906359"
     },
     "user_tz": -180
    },
    "id": "gSOMm1EwvLJS",
    "outputId": "aed2031c-8697-4ea1-c0b6-55ebbd37e511"
   },
   "outputs": [
    {
     "name": "stdout",
     "output_type": "stream",
     "text": [
      "[('Chicago', 41.8781, -87.6298), ('Los Angeles', 34.0522, -118.2437)]\n"
     ]
    }
   ],
   "source": [
    "cities: List[Tuple[str, float, float]] = [(\"New York City\", 40.7128, -74.0060), (\"Los Angeles\", 34.0522, -118.2437), (\"Chicago\", 41.8781, -87.6298)]\n",
    "\n",
    "cities.sort()\n",
    "\n",
    "city_names = [city[0] for city in cities]\n",
    "cities.pop()\n",
    "\n",
    "print(cities)"
   ]
  },
  {
   "cell_type": "markdown",
   "metadata": {
    "id": "F0ZM3ceovLJS"
   },
   "source": [
    "## Exercise 9: Dictionary Operations\n",
    "\n",
    "Using the dictionary from Exercise 6, perform the following tasks:\n",
    "\n",
    "1. Check if the key \"Length\" exists in the dictionary.\n",
    "2. Print all the keys in the dictionary.\n",
    "3. Print all the values in the dictionary."
   ]
  },
  {
   "cell_type": "code",
   "execution_count": null,
   "metadata": {
    "colab": {
     "base_uri": "https://localhost:8080/"
    },
    "executionInfo": {
     "elapsed": 4,
     "status": "ok",
     "timestamp": 1748101337668,
     "user": {
      "displayName": "Thomas",
      "userId": "11810939765377906359"
     },
     "user_tz": -180
    },
    "id": "StlkxSYavLJT",
    "outputId": "5689d59a-8998-4cd1-f853-5e58d3f35652"
   },
   "outputs": [
    {
     "name": "stdout",
     "output_type": "stream",
     "text": [
      "True\n",
      "dict_keys(['name', 'length', 'countries'])\n",
      "dict_values(['Amazon', 6400, ['Brazil', 'Peru', 'Colombia']])\n"
     ]
    }
   ],
   "source": [
    "amazon_river: dict = {\n",
    "    \"name\": \"Amazon\",\n",
    "    \"length\": 6400,\n",
    "    \"countries\": [\"Brazil\", \"Peru\", \"Colombia\"]\n",
    "}\n",
    "\n",
    "print(\"length\" in amazon_river)\n",
    "print(amazon_river.keys())\n",
    "print(amazon_river.values())"
   ]
  },
  {
   "cell_type": "markdown",
   "metadata": {
    "id": "JuoObBnfvLJT"
   },
   "source": [
    "## Exercise 10: Practical Application\n",
    "\n",
    "Imagine you have a list of tuples, each representing a location with its name, latitude, and longitude:"
   ]
  },
  {
   "cell_type": "code",
   "execution_count": null,
   "metadata": {
    "id": "dFbZ22Z3vLJT"
   },
   "outputs": [],
   "source": [
    "locations = [\n",
    "    (\"Mount Everest\", 27.9881, 86.9250),\n",
    "    (\"K2\", 35.8808, 76.5155),\n",
    "    (\"Kangchenjunga\", 27.7025, 88.1475),\n",
    "]"
   ]
  },
  {
   "cell_type": "markdown",
   "metadata": {
    "id": "J3FMPiV1vLJT"
   },
   "source": [
    "Perform the following tasks:\n",
    "\n",
    "1. Create a new list that contains only the names of the locations.\n",
    "2. Create a dictionary where the keys are location names and the values are tuples of their coordinates.\n",
    "3. Print the latitude of \"K2\" using the dictionary."
   ]
  },
  {
   "cell_type": "code",
   "execution_count": null,
   "metadata": {
    "colab": {
     "base_uri": "https://localhost:8080/"
    },
    "executionInfo": {
     "elapsed": 9,
     "status": "ok",
     "timestamp": 1748101510794,
     "user": {
      "displayName": "Thomas",
      "userId": "11810939765377906359"
     },
     "user_tz": -180
    },
    "id": "GEOWZl0hvLJT",
    "outputId": "788f7e0f-e504-4514-c886-d870ecdfc487"
   },
   "outputs": [
    {
     "name": "stdout",
     "output_type": "stream",
     "text": [
      "35.8808\n"
     ]
    }
   ],
   "source": [
    "names = [location[0] for location in locations]\n",
    "new_locations = {location[0]:(location[1], location[2]) for location in locations}\n",
    "\n",
    "print(new_locations[\"K2\"][0])"
   ]
  },
  {
   "cell_type": "markdown",
   "metadata": {
    "id": "_oSmTDo8vLJW"
   },
   "source": [
    "## Exercise 11: Manipulating Geographic Location Strings\n",
    "\n",
    "- Create a string that represents the name of a geographic feature (e.g., `\"Amazon River\"`).\n",
    "- Convert the string to lowercase and then to uppercase.\n",
    "- Concatenate the string with the name of the country (e.g., `\"Brazil\"`) to create a full location name.\n",
    "- Repeat the string three times, separating each repetition with a dash (`-`)."
   ]
  },
  {
   "cell_type": "code",
   "execution_count": null,
   "metadata": {
    "colab": {
     "base_uri": "https://localhost:8080/"
    },
    "executionInfo": {
     "elapsed": 10,
     "status": "ok",
     "timestamp": 1748166144084,
     "user": {
      "displayName": "Thomas",
      "userId": "11810939765377906359"
     },
     "user_tz": -180
    },
    "id": "w4Seyy_bvLJW",
    "outputId": "5c6c603b-09c7-479f-d2b6-b8ceaf61b8f2"
   },
   "outputs": [
    {
     "name": "stdout",
     "output_type": "stream",
     "text": [
      "AMAZON RIVER Brazil-AMAZON RIVER Brazil-AMAZON RIVER Brazil\n"
     ]
    }
   ],
   "source": [
    "name = \"Amazon River\"\n",
    "name = name.lower()\n",
    "name = name.upper()\n",
    "name = name + \" Brazil\"\n",
    "name = '-'.join(name for _ in range(3))\n",
    "print(name)"
   ]
  },
  {
   "cell_type": "markdown",
   "metadata": {
    "id": "ny2j2xclvLJW"
   },
   "source": [
    "## Exercise 12: Extracting and Formatting Coordinates\n",
    "\n",
    "- Given a string with the format `\"latitude, longitude\"` (e.g., `\"40.7128N, 74.0060W\"`), extract the numeric values of latitude and longitude.\n",
    "- Convert these values to floats and remove the directional indicators (`N`, `S`, `E`, `W`).\n",
    "- Format the coordinates into a `POINT` WKT string (e.g., `\"POINT(-74.0060 40.7128)\"`)."
   ]
  },
  {
   "cell_type": "code",
   "execution_count": null,
   "metadata": {
    "colab": {
     "base_uri": "https://localhost:8080/"
    },
    "executionInfo": {
     "elapsed": 38,
     "status": "ok",
     "timestamp": 1748166171218,
     "user": {
      "displayName": "Thomas",
      "userId": "11810939765377906359"
     },
     "user_tz": -180
    },
    "id": "LW7n4I3BvLJW",
    "outputId": "7f377bd1-df48-4f33-c094-de37fa1ee605"
   },
   "outputs": [
    {
     "name": "stdout",
     "output_type": "stream",
     "text": [
      "POINT(-74.006, 40.7128)\n"
     ]
    }
   ],
   "source": [
    "from typing import Tuple\n",
    "\n",
    "def separate_directional_indicators(coord: str) -> Tuple[float, str]:\n",
    "  direction = ''.join(c for c in coord if c in [\"N\", \"S\", \"E\", \"W\"])\n",
    "  return (float(coord.replace(direction, '')), direction)\n",
    "\n",
    "def calculate_signed_coord(coord: Tuple[float, str]) -> str:\n",
    "  value, direction = coord\n",
    "  if direction in [\"S\", \"W\"]:\n",
    "    return str(-value)\n",
    "  elif direction in [\"N\", \"E\"]:\n",
    "    return str(value)\n",
    "  else:\n",
    "    raise ValueError(\"Invalid coordinate tuple\")\n",
    "\n",
    "def create_WKT_point_string(lat: Tuple[float, str], lon: Tuple[float, str]) -> str:\n",
    "  return f\"POINT({calculate_signed_coord(lon)}, {calculate_signed_coord(lat)})\"\n",
    "\n",
    "\n",
    "coords = \"40.7128N, 74.0060W\"\n",
    "lat, lon = coords.split(', ')\n",
    "\n",
    "lat =  separate_directional_indicators(lat)\n",
    "lon =  separate_directional_indicators(lon)\n",
    "\n",
    "WKT_point = create_WKT_point_string(lat, lon)\n",
    "\n",
    "print(WKT_point)"
   ]
  },
  {
   "cell_type": "markdown",
   "metadata": {
    "id": "ZoDne5BfvLJW"
   },
   "source": [
    "## Exercise 13: Building Dynamic SQL Queries\n",
    "\n",
    "- Given a table name and a condition, dynamically build an SQL query string.\n",
    "- Example: If `table_name = \"cities\"` and `condition = \"population > 1000000\"`, the query should be `\"SELECT * FROM cities WHERE population > 1000000;\"`.\n",
    "- Add additional conditions dynamically, like `AND` clauses."
   ]
  },
  {
   "cell_type": "code",
   "execution_count": null,
   "metadata": {
    "colab": {
     "base_uri": "https://localhost:8080/"
    },
    "executionInfo": {
     "elapsed": 8,
     "status": "ok",
     "timestamp": 1748166688979,
     "user": {
      "displayName": "Thomas",
      "userId": "11810939765377906359"
     },
     "user_tz": -180
    },
    "id": "g-RighY61wQE",
    "outputId": "3aa1dbc5-913d-4ce4-9117-41d630154988"
   },
   "outputs": [
    {
     "name": "stdout",
     "output_type": "stream",
     "text": [
      "SELECT * from cities WHERE population > 1000000 AND area < 1000\n"
     ]
    }
   ],
   "source": [
    "from typing import List\n",
    "\n",
    "def build_query(table: str, conditions: List[str]) -> str:\n",
    "  return f\"SELECT * from {table} WHERE {' AND '.join(condition for condition in conditions)}\"\n",
    "\n",
    "print(build_query(\"cities\", [\"population > 1000000\", \"area < 1000\"]))"
   ]
  },
  {
   "cell_type": "markdown",
   "metadata": {
    "id": "2x7Q5NpLvLJW"
   },
   "source": [
    "## Exercise 14: String Normalization and Cleaning\n",
    "\n",
    "- Given a list of city names with inconsistent formatting (e.g., `[\" new york \", \"Los ANGELES\", \"   CHICAGO\"]`), normalize the names by:\n",
    "  - Stripping any leading or trailing whitespace.\n",
    "  - Converting them to title case (e.g., `\"New York\"`, `\"Los Angeles\"`, `\"Chicago\"`).\n",
    "- Ensure that the output is a clean list of city names."
   ]
  },
  {
   "cell_type": "code",
   "execution_count": null,
   "metadata": {
    "colab": {
     "base_uri": "https://localhost:8080/"
    },
    "executionInfo": {
     "elapsed": 10,
     "status": "ok",
     "timestamp": 1748166935051,
     "user": {
      "displayName": "Thomas",
      "userId": "11810939765377906359"
     },
     "user_tz": -180
    },
    "id": "uNP1Sg98vLJW",
    "outputId": "fe510ba8-81bb-4c5f-de88-03abebc98c96"
   },
   "outputs": [
    {
     "name": "stdout",
     "output_type": "stream",
     "text": [
      "['New York', 'Los Angeles', 'Chicago']\n"
     ]
    }
   ],
   "source": [
    "from typing import List\n",
    "\n",
    "def format_city_names(names: List[str]) -> List[str]:\n",
    "  return [name.strip().lower().title() for name in names]\n",
    "\n",
    "city_names = [\" new york \", \"Los ANGELES\", \" CHICAGO\"]\n",
    "print(format_city_names(city_names))"
   ]
  },
  {
   "cell_type": "markdown",
   "metadata": {
    "id": "lYUlfWwbvLJW"
   },
   "source": [
    "## Exercise 15: Parsing and Extracting Address Information\n",
    "\n",
    "- Given a string in the format `\"Street, City, Country\"` (e.g., `\"123 Main St, Springfield, USA\"`), write a function that parses the string into a dictionary with keys `street`, `city`, and `country`.\n",
    "- The function should return a dictionary like `{\"street\": \"123 Main St\", \"city\": \"Springfield\", \"country\": \"USA\"}`."
   ]
  },
  {
   "cell_type": "code",
   "execution_count": null,
   "metadata": {
    "colab": {
     "base_uri": "https://localhost:8080/"
    },
    "executionInfo": {
     "elapsed": 8,
     "status": "ok",
     "timestamp": 1748171994097,
     "user": {
      "displayName": "Thomas",
      "userId": "11810939765377906359"
     },
     "user_tz": -180
    },
    "id": "tDS0RN8GvLJW",
    "outputId": "b7f170f1-e891-410c-ce52-88539fd7e269"
   },
   "outputs": [
    {
     "name": "stdout",
     "output_type": "stream",
     "text": [
      "{'street': '123 Main St', 'city': 'Springfield', 'country': 'USA'}\n"
     ]
    }
   ],
   "source": [
    "def parse_address_string(address: str) -> dict:\n",
    "  street, city, country = address.split(', ')\n",
    "  return {\n",
    "      'street': street,\n",
    "      'city': city,\n",
    "      'country': country\n",
    "  }\n",
    "\n",
    "print(parse_address_string(\"123 Main St, Springfield, USA\"))"
   ]
  },
  {
   "cell_type": "markdown",
   "metadata": {
    "id": "dbd9uwN1vLJX"
   },
   "source": [
    "## Exercise 16: Using For Loops to Process Coordinate Lists\n",
    "\n",
    "- Create a list of tuples representing coordinates (latitude, longitude).\n",
    "- Write a `for` loop that prints each coordinate and indicates whether it is in the Northern or Southern Hemisphere based on the latitude."
   ]
  },
  {
   "cell_type": "code",
   "execution_count": null,
   "metadata": {
    "colab": {
     "base_uri": "https://localhost:8080/"
    },
    "executionInfo": {
     "elapsed": 16,
     "status": "ok",
     "timestamp": 1748172703992,
     "user": {
      "displayName": "Thomas",
      "userId": "11810939765377906359"
     },
     "user_tz": -180
    },
    "id": "C6m3Mvw_vLJX",
    "outputId": "56344e86-6659-476d-d5a4-3e91531efaa3"
   },
   "outputs": [
    {
     "name": "stdout",
     "output_type": "stream",
     "text": [
      "Coordinate: (34.0522, -118.2437) is in the Northern Hemisphere\n",
      "Coordinate: (-33.8688, 151.2093) is in the Southern Hemisphere\n",
      "Coordinate: (51.5074, -0.1278) is in the Northern Hemisphere\n",
      "Coordinate: (-34.6037, -58.3816) is in the Southern Hemisphere\n"
     ]
    }
   ],
   "source": [
    "# Latitude, longtitude\n",
    "coords = [(34.0522, -118.2437), (-33.8688, 151.2093), (51.5074, -0.1278), (-34.6037, -58.3816)]\n",
    "\n",
    "for lat, lon in coords:\n",
    "    if lat > 0:\n",
    "        hemisphere = \"Northern\"\n",
    "    else:\n",
    "        hemisphere = \"Southern\"\n",
    "    print(f\"Coordinate: ({lat}, {lon}) is in the {hemisphere} Hemisphere\")"
   ]
  },
  {
   "cell_type": "markdown",
   "metadata": {
    "id": "nA6g36HlvLJX"
   },
   "source": [
    "## Exercise 17: While Loops for Iterative Processing\n",
    "\n",
    "- Create a list of coordinates (latitude, longitude).\n",
    "- Write a `while` loop that continues to print each coordinate until it encounters a coordinate with a negative latitude.\n",
    "- Stop the loop once this condition is met."
   ]
  },
  {
   "cell_type": "code",
   "execution_count": null,
   "metadata": {
    "colab": {
     "base_uri": "https://localhost:8080/"
    },
    "executionInfo": {
     "elapsed": 4,
     "status": "ok",
     "timestamp": 1748173095117,
     "user": {
      "displayName": "Thomas",
      "userId": "11810939765377906359"
     },
     "user_tz": -180
    },
    "id": "nfMMAlIrvLJX",
    "outputId": "92c0830a-18a9-45af-b6dc-9a96a87fc44e"
   },
   "outputs": [
    {
     "name": "stdout",
     "output_type": "stream",
     "text": [
      "Coordinate: (34.0522, -118.2437)\n",
      "Coordinate: (33.8688, 151.2093)\n",
      "Coordinate: (51.5074, -0.1278)\n"
     ]
    }
   ],
   "source": [
    "# Latitude, longtitude\n",
    "coords = [(34.0522, -118.2437), (33.8688, 151.2093), (51.5074, -0.1278), (-34.6037, -58.3816)]\n",
    "\n",
    "i = 0\n",
    "while i < len(coords):\n",
    "    lat, lon = coords[i]\n",
    "    if lat < 0:\n",
    "        break\n",
    "    print(f\"Coordinate: ({lat}, {lon})\")\n",
    "    i += 1"
   ]
  },
  {
   "cell_type": "markdown",
   "metadata": {
    "id": "8yNMiiFrvLJX"
   },
   "source": [
    "## Exercise 18: Conditional Logic in Loops\n",
    "\n",
    "- Create a list of coordinates and use a `for` loop to iterate over them.\n",
    "- Use an `if-elif-else` statement inside the loop to classify each coordinate based on its longitude:\n",
    "  - Print `\"Eastern Hemisphere\"` if the longitude is greater than 0.\n",
    "  - Print `\"Western Hemisphere\"` if the longitude is less than 0."
   ]
  },
  {
   "cell_type": "code",
   "execution_count": null,
   "metadata": {
    "colab": {
     "base_uri": "https://localhost:8080/"
    },
    "executionInfo": {
     "elapsed": 9,
     "status": "ok",
     "timestamp": 1748173081398,
     "user": {
      "displayName": "Thomas",
      "userId": "11810939765377906359"
     },
     "user_tz": -180
    },
    "id": "J6XXvj0xvLJX",
    "outputId": "80dbb99d-e44b-491f-c872-7729d534d8ba"
   },
   "outputs": [
    {
     "name": "stdout",
     "output_type": "stream",
     "text": [
      "Western Hemisphere\n",
      "Eastern Hemisphere\n",
      "Prime Meridian\n",
      "Western Hemisphere\n"
     ]
    }
   ],
   "source": [
    "# Latitude, longtitude\n",
    "coords = [(34.0522, -118.2437), (-33.8688, 151.2093), (51.5074, 0), (-34.6037, -58.3816)]\n",
    "\n",
    "for lat, lon in coords:\n",
    "    if lon > 0:\n",
    "        pos = \"Eastern Hemisphere\"\n",
    "    elif lon < 0:\n",
    "        pos = \"Western Hemisphere\"\n",
    "    else:\n",
    "      pos = \"Prime Meridian\"\n",
    "    print(pos)"
   ]
  },
  {
   "cell_type": "markdown",
   "metadata": {
    "id": "phqVEUdWvLJX"
   },
   "source": [
    "## Exercise 19: Filtering Data with Combined Loops and Conditionals\n",
    "\n",
    "- Given a list of coordinates, filter out and store only those located in the Southern Hemisphere (latitude < 0).\n",
    "- Count the number of coordinates that meet this condition and print the result."
   ]
  },
  {
   "cell_type": "code",
   "execution_count": null,
   "metadata": {
    "colab": {
     "base_uri": "https://localhost:8080/"
    },
    "executionInfo": {
     "elapsed": 6,
     "status": "ok",
     "timestamp": 1748173323107,
     "user": {
      "displayName": "Thomas",
      "userId": "11810939765377906359"
     },
     "user_tz": -180
    },
    "id": "9tlW3YrdvLJX",
    "outputId": "00908bb9-050d-47ac-9ba6-aed7d3b56447"
   },
   "outputs": [
    {
     "name": "stdout",
     "output_type": "stream",
     "text": [
      "2 coordinates in the Southern Hemisphere: [(-33.8688, 151.2093), (-34.6037, -58.3816)]\n"
     ]
    }
   ],
   "source": [
    "# Latitude, longtitude\n",
    "coords = [(34.0522, -118.2437), (-33.8688, 151.2093), (51.5074, -0.1278), (-34.6037, -58.3816)]\n",
    "southern_hemisphere_coords = [coord for coord in coords  if coord[0] < 0]\n",
    "print(f\"{len(southern_hemisphere_coords)} coordinates in the Southern Hemisphere: {southern_hemisphere_coords}\")"
   ]
  },
  {
   "cell_type": "markdown",
   "metadata": {
    "id": "tcZPmrmZvLJX"
   },
   "source": [
    "## Exercise 20: Generating and Analyzing Random Coordinates\n",
    "\n",
    "- Write a program that generates random coordinates (latitude between [-90, 90] degrees and longitude between [-180, 180] degrees).\n",
    "- Use a `while` loop to keep generating coordinates until a pair with both latitude and longitude greater than 50 is generated.\n",
    "- Print each generated coordinate and the final coordinate that meets the condition."
   ]
  },
  {
   "cell_type": "code",
   "execution_count": null,
   "metadata": {
    "colab": {
     "base_uri": "https://localhost:8080/"
    },
    "executionInfo": {
     "elapsed": 5,
     "status": "ok",
     "timestamp": 1748173742324,
     "user": {
      "displayName": "Thomas",
      "userId": "11810939765377906359"
     },
     "user_tz": -180
    },
    "id": "zVPzbYXHvLJX",
    "outputId": "6c4dd7e3-2df7-40ac-f264-776b5ebc0253"
   },
   "outputs": [
    {
     "name": "stdout",
     "output_type": "stream",
     "text": [
      "(-75.45033623098222, 160.41264353133954)\n",
      "(-37.20357133586651, -47.68761648947503)\n",
      "(-21.351687697992844, 119.64285369256089)\n",
      "(-6.6998897978522365, -159.79570282842766)\n",
      "(-71.57101040660383, -90.72340596098785)\n",
      "(-23.776556520160128, -113.92679536298027)\n",
      "(8.318905099131754, -138.8757138696314)\n",
      "(-67.91880773946647, -164.85302808506472)\n",
      "(-60.8266683174521, 154.39637712560994)\n",
      "(-89.85533276949056, 160.50199904812587)\n",
      "(44.000016697788936, 16.975011013554052)\n",
      "(38.31439134157273, -157.22783636842524)\n",
      "(22.87603329664924, 147.46145793489495)\n",
      "(-4.1994709668636006, -70.37334805263096)\n",
      "Terminating coordinate: (68.90377342619007, 125.70500776647538)\n"
     ]
    }
   ],
   "source": [
    "import random\n",
    "from typing import Tuple\n",
    "\n",
    "def generate_lat() -> float:\n",
    "  return random.uniform(-90, 90)\n",
    "\n",
    "def generate_lon() -> float:\n",
    "  return random.uniform(-180, 180)\n",
    "\n",
    "def generate_coord() -> Tuple[float, float]:\n",
    "  return (generate_lat(), generate_lon())\n",
    "\n",
    "coord = generate_coord()\n",
    "while coord[0] < 50 or coord[1] < 50:\n",
    "  print(coord)\n",
    "  coord = generate_coord()\n",
    "\n",
    "print(f\"Terminating coordinate: {coord}\")"
   ]
  },
  {
   "cell_type": "markdown",
   "metadata": {
    "id": "VaqAn0ievLJX"
   },
   "source": [
    "## Submission Requirements\n",
    "\n",
    "Complete the exercises above and and upload the notebook to your GitHub repository. Make sure the notebook has a Colab badge at the top so that it can be easily opened in Google Colab. Submit the URL of the notebook to Canvas."
   ]
  }
 ],
 "metadata": {
  "colab": {
   "provenance": [
    {
     "file_id": "https://github.com/giswqs/geog-510/blob/main/book/labs/lab_04.ipynb",
     "timestamp": 1748098255576
    }
   ]
  },
  "kernelspec": {
   "display_name": "Python 3",
   "language": "python",
   "name": "python3"
  },
  "language_info": {
   "codemirror_mode": {
    "name": "ipython",
    "version": 3
   },
   "file_extension": ".py",
   "mimetype": "text/x-python",
   "name": "python",
   "nbconvert_exporter": "python",
   "pygments_lexer": "ipython3",
   "version": "3.11.3"
  }
 },
 "nbformat": 4,
 "nbformat_minor": 0
}
