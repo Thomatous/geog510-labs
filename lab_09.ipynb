{
 "cells": [
  {
   "cell_type": "markdown",
   "id": "21c9db69",
   "metadata": {},
   "source": [
    "# Lab 9\n",
    "\n",
    "[![Open In Colab](https://colab.research.google.com/assets/colab-badge.svg)](https://colab.research.google.com/github/Thomatous/geog510-labs/blob/main/lab_09.ipynb)"
   ]
  },
  {
   "cell_type": "code",
   "execution_count": null,
   "id": "5abb890c",
   "metadata": {},
   "outputs": [],
   "source": [
    "%pip install -q -U leafmap\n",
    "%pip install -q fiona"
   ]
  },
  {
   "cell_type": "code",
   "execution_count": null,
   "id": "c30deee0",
   "metadata": {},
   "outputs": [],
   "source": [
    "import leafmap\n",
    "import leafmap.foliumap as foliumap\n",
    "import geopandas as gpd"
   ]
  },
  {
   "cell_type": "markdown",
   "id": "0",
   "metadata": {},
   "source": [
    "\n",
    "\n",
    "## Question 1: Creating an Interactive Map\n",
    "\n",
    "1. Create an interactive map with search functionality that allows users to search for places and zoom to them. Disable the draw control on the map."
   ]
  },
  {
   "cell_type": "code",
   "execution_count": null,
   "id": "1",
   "metadata": {},
   "outputs": [],
   "source": [
    "m = leafmap.Map(\n",
    "    center=(40, -100),\n",
    "    zoom=4,\n",
    "    height=\"600px\",\n",
    "    draw_control=False,\n",
    ")\n",
    "url = \"https://nominatim.openstreetmap.org/search?format=json&q={s}\"\n",
    "m.add_search_control(url, zoom=10, position=\"topleft\")\n",
    "m"
   ]
  },
  {
   "cell_type": "markdown",
   "id": "3",
   "metadata": {},
   "source": [
    "## Question 2: Adding Map Legends\n",
    "\n",
    "1. Add the [ESA World Cover](https://esa-worldcover.org/en) WMS tile layer to the map.\n",
    "   - URL: `https://services.terrascope.be/wms/v2?`\n",
    "   - Layer name: `WORLDCOVER_2021_MAP`\n",
    "2. Add a legend to the map using the leafmap built-in `ESA_WorldCover` legend."
   ]
  },
  {
   "cell_type": "code",
   "execution_count": null,
   "id": "4",
   "metadata": {},
   "outputs": [],
   "source": [
    "m = foliumap.Map(center=[40, -100], zoom=4) # NOTE: the default leafmap backend doesn't seem to display the legend correctly\n",
    "\n",
    "url = \"https://services.terrascope.be/wms/v2?\"\n",
    "m.add_wms_layer(\n",
    "    url=url,\n",
    "    layers=\"WORLDCOVER_2021_MAP\",\n",
    "    name=\"WorldCover 2021\",\n",
    "    attribution=\"ESA\",\n",
    "    format=\"image/png\",\n",
    "    shown=True,\n",
    ")\n",
    "\n",
    "m.add_legend(\n",
    "    title=\"ESA WorldCover (2021)\",\n",
    "    builtin_legend=\"ESA_WorldCover\",\n",
    "    position=\"bottomright\",\n",
    ")\n",
    "m"
   ]
  },
  {
   "cell_type": "markdown",
   "id": "6",
   "metadata": {},
   "source": [
    "## Question 3: Creating Marker Clusters\n",
    "\n",
    "1. Create a marker cluster visualization from a GeoJSON file of building centroids:\n",
    "   - URL: https://github.com/opengeos/datasets/releases/download/places/wa_building_centroids.geojson\n",
    "   - Hint: Read the GeoJSON file using GeoPandas and add \"latitude\" and \"longitude\" columns to the GeoDataFrame.\n",
    "2. Create circle markers for each building centroid using the `Map.add_circle_markers_from_xy()` method with the following styling:\n",
    "   - Radius: 5\n",
    "   - Outline color: \"red\"\n",
    "   - Fill color: \"yellow\"\n",
    "   - Fill opacity: 0.8"
   ]
  },
  {
   "cell_type": "code",
   "execution_count": null,
   "id": "457a7808",
   "metadata": {},
   "outputs": [],
   "source": [
    "def read_geojson_and_add_longtitude_and_attitude(url: str) -> gpd.GeoDataFrame:\n",
    "    gdf = gpd.read_file(url)\n",
    "    gdf[\"longitude\"] = gdf.geometry.x\n",
    "    gdf[\"latitude\"] = gdf.geometry.y\n",
    "    return gdf"
   ]
  },
  {
   "cell_type": "code",
   "execution_count": null,
   "id": "7",
   "metadata": {},
   "outputs": [],
   "source": [
    "url = \"https://github.com/opengeos/datasets/releases/download/places/wa_building_centroids.geojson\"\n",
    "gdf = read_geojson_and_add_longtitude_and_attitude(url)\n",
    "\n",
    "m1 = leafmap.Map(center=[47.5, -120], zoom=7)\n",
    "m1.add_marker_cluster(gdf, x=\"longitude\", y=\"latitude\", layer_name=\"Buildings\")\n",
    "m1"
   ]
  },
  {
   "cell_type": "code",
   "execution_count": null,
   "id": "2bd8f574",
   "metadata": {},
   "outputs": [],
   "source": [
    "url = \"https://github.com/opengeos/datasets/releases/download/places/wa_building_centroids.geojson\"\n",
    "gdf = read_geojson_and_add_longtitude_and_attitude(url)\n",
    "\n",
    "m2 = leafmap.Map(center=[47.5, -120], zoom=7)\n",
    "m2.add_circle_markers_from_xy(\n",
    "    gdf,\n",
    "    x=\"longitude\",\n",
    "    y=\"latitude\",\n",
    "    radius=5,\n",
    "    color=\"red\",\n",
    "    fill_color=\"yellow\",\n",
    "    fill_opacity=0.8,\n",
    "    layer_name=\"Buildings\"\n",
    ")\n",
    "m2"
   ]
  },
  {
   "cell_type": "markdown",
   "id": "11",
   "metadata": {},
   "source": [
    "## Question 4: Visualizing Vector Data\n",
    "\n",
    "1. Visualize the building polygons GeoJSON file and style it with:\n",
    "\n",
    "   - Outline color: \"red\"\n",
    "   - No fill color\n",
    "   - URL: https://github.com/opengeos/datasets/releases/download/places/wa_overture_buildings.geojson\n",
    "\n",
    "2. Visualize the road polylines GeoJSON file and style it with:\n",
    "\n",
    "   - Line color: \"red\"\n",
    "   - Line width: 2\n",
    "   - URL: https://github.com/opengeos/datasets/releases/download/places/las_vegas_roads.geojson\n",
    "\n",
    "3. Create a choropleth map of county areas in the US:\n",
    "   - URL: https://github.com/opengeos/datasets/releases/download/us/us_counties.geojson\n",
    "   - Column: `CENSUSAREA`"
   ]
  },
  {
   "cell_type": "code",
   "execution_count": null,
   "id": "68900696",
   "metadata": {},
   "outputs": [],
   "source": [
    "def read_geojson_and_explore(url: str) -> gpd.GeoDataFrame:\n",
    "    gdf = gpd.read_file(url)\n",
    "    gdf.explore()\n",
    "    return gdf"
   ]
  },
  {
   "cell_type": "code",
   "execution_count": null,
   "id": "12",
   "metadata": {},
   "outputs": [],
   "source": [
    "url=\"https://github.com/opengeos/datasets/releases/download/places/wa_overture_buildings.geojson\"\n",
    "gdf = read_geojson_and_explore(url)\n",
    "\n",
    "m = leafmap.Map(center=[47.5, -120], zoom=7)\n",
    "m.add_basemap(\"Esri.WorldImagery\")\n",
    "style = {\"color\": \"red\", \"fillOpacity\": 0}\n",
    "m.add_gdf(gdf, style=style, layer_name=\"Building Outlines\", zoom_to_layer=True)\n",
    "m"
   ]
  },
  {
   "cell_type": "code",
   "execution_count": null,
   "id": "14",
   "metadata": {},
   "outputs": [],
   "source": [
    "url=\"https://github.com/opengeos/datasets/releases/download/places/las_vegas_roads.geojson\"\n",
    "gdf = read_geojson_and_explore(url)\n",
    "\n",
    "m = leafmap.Map(center=[47.5, -120], zoom=7)\n",
    "m.add_basemap(\"Esri.WorldImagery\")\n",
    "style = {\"color\": \"red\",  \"weight\": 2}\n",
    "m.add_gdf(gdf, style=style, layer_name=\"Road Polygons\", zoom_to_layer=True)\n",
    "m"
   ]
  },
  {
   "cell_type": "code",
   "execution_count": null,
   "id": "16",
   "metadata": {},
   "outputs": [],
   "source": [
    "\n",
    "data = \"https://github.com/opengeos/datasets/releases/download/us/us_counties.geojson\"\n",
    "m = leafmap.Map()\n",
    "m.add_data(\n",
    "    data,\n",
    "    column=\"CENSUSAREA\",\n",
    "    cmap=\"Blues\",\n",
    "    scheme=\"Quantiles\",\n",
    ")\n",
    "m"
   ]
  },
  {
   "cell_type": "markdown",
   "id": "17",
   "metadata": {},
   "source": [
    "## Exercise 5: Creating a Split Map\n",
    "\n",
    "1. Create a split map to compare imagery of Libya before and after the 2023 flood event:\n",
    "\n",
    "   - Pre-event imagery: https://github.com/opengeos/datasets/releases/download/raster/Libya-2023-07-01.tif\n",
    "   - Post-event imagery: https://github.com/opengeos/datasets/releases/download/raster/Libya-2023-09-13.tif"
   ]
  },
  {
   "cell_type": "code",
   "execution_count": null,
   "id": "18",
   "metadata": {},
   "outputs": [],
   "source": [
    "m = leafmap.Map(center=[39.494897, -108.507278], zoom=10)\n",
    "url = \"https://github.com/opengeos/datasets/releases/download/raster/Libya-2023-07-01.tif\"\n",
    "url2 = \"https://github.com/opengeos/datasets/releases/download/raster/Libya-2023-09-13.tif\"\n",
    "m.split_map(\n",
    "    left_layer=url, right_layer=url2, left_label=\"Pre-event\", right_label=\"Post-event\"\n",
    ")\n",
    "m"
   ]
  }
 ],
 "metadata": {
  "kernelspec": {
   "display_name": ".venv",
   "language": "python",
   "name": "python3"
  },
  "language_info": {
   "codemirror_mode": {
    "name": "ipython",
    "version": 3
   },
   "file_extension": ".py",
   "mimetype": "text/x-python",
   "name": "python",
   "nbconvert_exporter": "python",
   "pygments_lexer": "ipython3",
   "version": "3.10.6"
  }
 },
 "nbformat": 4,
 "nbformat_minor": 5
}
