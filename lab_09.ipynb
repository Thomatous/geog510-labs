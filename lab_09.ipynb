{
 "cells": [
  {
   "cell_type": "markdown",
   "id": "21c9db69",
   "metadata": {},
   "source": [
    "# Lab 9\n",
    "\n",
    "[![Open In Colab](https://colab.research.google.com/assets/colab-badge.svg)](https://colab.research.google.com/github/giswqs/geog-510/blob/main/book/labs/lab_09.ipynb)"
   ]
  },
  {
   "cell_type": "code",
   "execution_count": 1,
   "id": "5abb890c",
   "metadata": {},
   "outputs": [
    {
     "name": "stdout",
     "output_type": "stream",
     "text": [
      "Note: you may need to restart the kernel to use updated packages.\n"
     ]
    },
    {
     "name": "stderr",
     "output_type": "stream",
     "text": [
      "\n",
      "[notice] A new release of pip is available: 25.1.1 -> 25.2\n",
      "[notice] To update, run: python.exe -m pip install --upgrade pip\n"
     ]
    },
    {
     "name": "stdout",
     "output_type": "stream",
     "text": [
      "Note: you may need to restart the kernel to use updated packages.\n"
     ]
    },
    {
     "name": "stderr",
     "output_type": "stream",
     "text": [
      "\n",
      "[notice] A new release of pip is available: 25.1.1 -> 25.2\n",
      "[notice] To update, run: python.exe -m pip install --upgrade pip\n"
     ]
    }
   ],
   "source": [
    "%pip install -q -U leafmap\n",
    "%pip install -q fiona"
   ]
  },
  {
   "cell_type": "code",
   "execution_count": 2,
   "id": "c30deee0",
   "metadata": {},
   "outputs": [],
   "source": [
    "import leafmap\n",
    "import leafmap.foliumap as foliumap\n",
    "import geopandas as gpd"
   ]
  },
  {
   "cell_type": "markdown",
   "id": "0",
   "metadata": {},
   "source": [
    "\n",
    "\n",
    "## Question 1: Creating an Interactive Map\n",
    "\n",
    "1. Create an interactive map with search functionality that allows users to search for places and zoom to them. Disable the draw control on the map."
   ]
  },
  {
   "cell_type": "code",
   "execution_count": 3,
   "id": "1",
   "metadata": {},
   "outputs": [
    {
     "data": {
      "application/vnd.jupyter.widget-view+json": {
       "model_id": "a35e2f1c7e6c4bb2b549da74e25d8cbe",
       "version_major": 2,
       "version_minor": 0
      },
      "text/plain": [
       "Map(center=[40, -100], controls=(ZoomControl(options=['position', 'zoom_in_text', 'zoom_in_title', 'zoom_out_t…"
      ]
     },
     "execution_count": 3,
     "metadata": {},
     "output_type": "execute_result"
    }
   ],
   "source": [
    "m = leafmap.Map(\n",
    "    center=(40, -100),\n",
    "    zoom=4,\n",
    "    height=\"600px\",\n",
    "    draw_control=False,\n",
    ")\n",
    "url = \"https://nominatim.openstreetmap.org/search?format=json&q={s}\"\n",
    "m.add_search_control(url, zoom=10, position=\"topleft\")\n",
    "m"
   ]
  },
  {
   "cell_type": "markdown",
   "id": "3",
   "metadata": {},
   "source": [
    "## Question 2: Adding Map Legends\n",
    "\n",
    "1. Add the [ESA World Cover](https://esa-worldcover.org/en) WMS tile layer to the map.\n",
    "   - URL: `https://services.terrascope.be/wms/v2?`\n",
    "   - Layer name: `WORLDCOVER_2021_MAP`\n",
    "2. Add a legend to the map using the leafmap built-in `ESA_WorldCover` legend."
   ]
  },
  {
   "cell_type": "code",
   "execution_count": 4,
   "id": "4",
   "metadata": {},
   "outputs": [
    {
     "data": {
      "text/html": [
       "<iframe srcdoc=\"&lt;!DOCTYPE html&gt;\n",
       "&lt;html&gt;\n",
       "&lt;head&gt;\n",
       "    \n",
       "    &lt;meta http-equiv=&quot;content-type&quot; content=&quot;text/html; charset=UTF-8&quot; /&gt;\n",
       "    &lt;script src=&quot;https://cdn.jsdelivr.net/npm/leaflet@1.9.3/dist/leaflet.js&quot;&gt;&lt;/script&gt;\n",
       "    &lt;script src=&quot;https://code.jquery.com/jquery-3.7.1.min.js&quot;&gt;&lt;/script&gt;\n",
       "    &lt;script src=&quot;https://cdn.jsdelivr.net/npm/bootstrap@5.2.2/dist/js/bootstrap.bundle.min.js&quot;&gt;&lt;/script&gt;\n",
       "    &lt;script src=&quot;https://cdnjs.cloudflare.com/ajax/libs/Leaflet.awesome-markers/2.0.2/leaflet.awesome-markers.js&quot;&gt;&lt;/script&gt;\n",
       "    &lt;link rel=&quot;stylesheet&quot; href=&quot;https://cdn.jsdelivr.net/npm/leaflet@1.9.3/dist/leaflet.css&quot;/&gt;\n",
       "    &lt;link rel=&quot;stylesheet&quot; href=&quot;https://cdn.jsdelivr.net/npm/bootstrap@5.2.2/dist/css/bootstrap.min.css&quot;/&gt;\n",
       "    &lt;link rel=&quot;stylesheet&quot; href=&quot;https://netdna.bootstrapcdn.com/bootstrap/3.0.0/css/bootstrap-glyphicons.css&quot;/&gt;\n",
       "    &lt;link rel=&quot;stylesheet&quot; href=&quot;https://cdn.jsdelivr.net/npm/@fortawesome/fontawesome-free@6.2.0/css/all.min.css&quot;/&gt;\n",
       "    &lt;link rel=&quot;stylesheet&quot; href=&quot;https://cdnjs.cloudflare.com/ajax/libs/Leaflet.awesome-markers/2.0.2/leaflet.awesome-markers.css&quot;/&gt;\n",
       "    &lt;link rel=&quot;stylesheet&quot; href=&quot;https://cdn.jsdelivr.net/gh/python-visualization/folium/folium/templates/leaflet.awesome.rotate.min.css&quot;/&gt;\n",
       "    \n",
       "            &lt;meta name=&quot;viewport&quot; content=&quot;width=device-width,\n",
       "                initial-scale=1.0, maximum-scale=1.0, user-scalable=no&quot; /&gt;\n",
       "            &lt;style&gt;\n",
       "                #map_b7364f3530a9710bc7cddf2d2b6a45f0 {\n",
       "                    position: relative;\n",
       "                    width: 100.0%;\n",
       "                    height: 100.0%;\n",
       "                    left: 0.0%;\n",
       "                    top: 0.0%;\n",
       "                }\n",
       "                .leaflet-container { font-size: 1rem; }\n",
       "            &lt;/style&gt;\n",
       "\n",
       "            &lt;style&gt;html, body {\n",
       "                width: 100%;\n",
       "                height: 100%;\n",
       "                margin: 0;\n",
       "                padding: 0;\n",
       "            }\n",
       "            &lt;/style&gt;\n",
       "\n",
       "            &lt;style&gt;#map {\n",
       "                position:absolute;\n",
       "                top:0;\n",
       "                bottom:0;\n",
       "                right:0;\n",
       "                left:0;\n",
       "                }\n",
       "            &lt;/style&gt;\n",
       "\n",
       "            &lt;script&gt;\n",
       "                L_NO_TOUCH = false;\n",
       "                L_DISABLE_3D = false;\n",
       "            &lt;/script&gt;\n",
       "\n",
       "        \n",
       "    &lt;script src=&quot;https://cdn.jsdelivr.net/npm/leaflet.fullscreen@3.0.0/Control.FullScreen.min.js&quot;&gt;&lt;/script&gt;\n",
       "    &lt;link rel=&quot;stylesheet&quot; href=&quot;https://cdn.jsdelivr.net/npm/leaflet.fullscreen@3.0.0/Control.FullScreen.css&quot;/&gt;\n",
       "    &lt;script src=&quot;https://cdnjs.cloudflare.com/ajax/libs/leaflet.draw/1.0.2/leaflet.draw.js&quot;&gt;&lt;/script&gt;\n",
       "    &lt;link rel=&quot;stylesheet&quot; href=&quot;https://cdnjs.cloudflare.com/ajax/libs/leaflet.draw/1.0.2/leaflet.draw.css&quot;/&gt;\n",
       "    &lt;script src=&quot;https://unpkg.com/leaflet-control-geocoder/dist/Control.Geocoder.js&quot;&gt;&lt;/script&gt;\n",
       "    &lt;link rel=&quot;stylesheet&quot; href=&quot;https://unpkg.com/leaflet-control-geocoder/dist/Control.Geocoder.css&quot;/&gt;\n",
       "&lt;/head&gt;\n",
       "&lt;body&gt;\n",
       "    \n",
       "    \n",
       "            &lt;div class=&quot;folium-map&quot; id=&quot;map_b7364f3530a9710bc7cddf2d2b6a45f0&quot; &gt;&lt;/div&gt;\n",
       "        \n",
       "    \n",
       "            \n",
       "        \n",
       "    \n",
       "&lt;!doctype html&gt;\n",
       "&lt;html lang=&quot;en&quot;&gt;\n",
       "&lt;head&gt;\n",
       "  &lt;meta charset=&quot;utf-8&quot;&gt;\n",
       "  &lt;meta name=&quot;viewport&quot; content=&quot;width=device-width, initial-scale=1&quot;&gt;\n",
       "  &lt;title&gt;jQuery UI Draggable - Default functionality&lt;/title&gt;\n",
       "  &lt;link rel=&quot;stylesheet&quot; href=&quot;//code.jquery.com/ui/1.12.1/themes/base/jquery-ui.css&quot;&gt;\n",
       "\n",
       "  &lt;script src=&quot;https://code.jquery.com/jquery-1.12.4.js&quot;&gt;&lt;/script&gt;\n",
       "  &lt;script src=&quot;https://code.jquery.com/ui/1.12.1/jquery-ui.js&quot;&gt;&lt;/script&gt;\n",
       "\n",
       "  &lt;script&gt;\n",
       "  $( function() {\n",
       "    $( &quot;#maplegend&quot; ).draggable({\n",
       "                    start: function (event, ui) {\n",
       "                        $(this).css({\n",
       "                            right: &quot;auto&quot;,\n",
       "                            top: &quot;auto&quot;,\n",
       "                            bottom: &quot;auto&quot;\n",
       "                        });\n",
       "                    }\n",
       "                });\n",
       "});\n",
       "\n",
       "  &lt;/script&gt;\n",
       "&lt;/head&gt;\n",
       "&lt;body&gt;\n",
       "\n",
       "\n",
       "&lt;div id=&#x27;maplegend&#x27; class=&#x27;maplegend&#x27;\n",
       "    style=&#x27;position: absolute; z-index:9999; border:2px solid grey; background-color:rgba(255, 255, 255, 0.8);\n",
       "     border-radius:6px; padding: 10px; font-size:14px; right: 20px; bottom: 20px;&#x27;&gt;\n",
       "\n",
       "&lt;div class=&#x27;legend-title&#x27;&gt;ESA WorldCover (2021)&lt;/div&gt;\n",
       "&lt;div class=&#x27;legend-scale&#x27;&gt;\n",
       "  &lt;ul class=&#x27;legend-labels&#x27;&gt;\n",
       "    &lt;li&gt;&lt;span style=&#x27;background:#006400;opacity:1.0;&#x27;&gt;&lt;/span&gt;10 Trees&lt;/li&gt;\n",
       "    &lt;li&gt;&lt;span style=&#x27;background:#ffbb22;opacity:1.0;&#x27;&gt;&lt;/span&gt;20 Shrubland&lt;/li&gt;\n",
       "    &lt;li&gt;&lt;span style=&#x27;background:#ffff4c;opacity:1.0;&#x27;&gt;&lt;/span&gt;30 Grassland&lt;/li&gt;\n",
       "    &lt;li&gt;&lt;span style=&#x27;background:#f096ff;opacity:1.0;&#x27;&gt;&lt;/span&gt;40 Cropland&lt;/li&gt;\n",
       "    &lt;li&gt;&lt;span style=&#x27;background:#fa0000;opacity:1.0;&#x27;&gt;&lt;/span&gt;50 Built-up&lt;/li&gt;\n",
       "    &lt;li&gt;&lt;span style=&#x27;background:#b4b4b4;opacity:1.0;&#x27;&gt;&lt;/span&gt;60 Barren / sparse vegetation&lt;/li&gt;\n",
       "    &lt;li&gt;&lt;span style=&#x27;background:#f0f0f0;opacity:1.0;&#x27;&gt;&lt;/span&gt;70 Snow and ice&lt;/li&gt;\n",
       "    &lt;li&gt;&lt;span style=&#x27;background:#0064c8;opacity:1.0;&#x27;&gt;&lt;/span&gt;80 Open water&lt;/li&gt;\n",
       "    &lt;li&gt;&lt;span style=&#x27;background:#0096a0;opacity:1.0;&#x27;&gt;&lt;/span&gt;90 Herbaceous wetland&lt;/li&gt;\n",
       "    &lt;li&gt;&lt;span style=&#x27;background:#00cf75;opacity:1.0;&#x27;&gt;&lt;/span&gt;95 Mangroves&lt;/li&gt;\n",
       "    &lt;li&gt;&lt;span style=&#x27;background:#fae6a0;opacity:1.0;&#x27;&gt;&lt;/span&gt;100 Moss and lichen&lt;/li&gt;\n",
       "  &lt;/ul&gt;\n",
       "&lt;/div&gt;\n",
       "&lt;/div&gt;\n",
       "\n",
       "&lt;/body&gt;\n",
       "&lt;/html&gt;\n",
       "\n",
       "&lt;style type=&#x27;text/css&#x27;&gt;\n",
       "  .maplegend .legend-title {\n",
       "    text-align: left;\n",
       "    margin-bottom: 5px;\n",
       "    font-weight: bold;\n",
       "    font-size: 90%;\n",
       "    }\n",
       "  .maplegend .legend-scale ul {\n",
       "    margin: 0;\n",
       "    margin-bottom: 5px;\n",
       "    padding: 0;\n",
       "    float: left;\n",
       "    list-style: none;\n",
       "    }\n",
       "  .maplegend .legend-scale ul li {\n",
       "    font-size: 80%;\n",
       "    list-style: none;\n",
       "    margin-left: 0;\n",
       "    line-height: 18px;\n",
       "    margin-bottom: 2px;\n",
       "    }\n",
       "  .maplegend ul.legend-labels li span {\n",
       "    display: block;\n",
       "    float: left;\n",
       "    height: 16px;\n",
       "    width: 30px;\n",
       "    margin-right: 5px;\n",
       "    margin-left: 0;\n",
       "    border: 1px solid #999;\n",
       "    }\n",
       "  .maplegend .legend-source {\n",
       "    font-size: 80%;\n",
       "    color: #777;\n",
       "    clear: both;\n",
       "    }\n",
       "  .maplegend a {\n",
       "    color: #777;\n",
       "    }\n",
       "&lt;/style&gt;\n",
       "\n",
       "&lt;/body&gt;\n",
       "&lt;script&gt;\n",
       "    \n",
       "    \n",
       "            var map_b7364f3530a9710bc7cddf2d2b6a45f0 = L.map(\n",
       "                &quot;map_b7364f3530a9710bc7cddf2d2b6a45f0&quot;,\n",
       "                {\n",
       "                    center: [40.0, -100.0],\n",
       "                    crs: L.CRS.EPSG3857,\n",
       "                    ...{\n",
       "  &quot;zoom&quot;: 4,\n",
       "  &quot;zoomControl&quot;: true,\n",
       "  &quot;preferCanvas&quot;: false,\n",
       "  &quot;drawExport&quot;: false,\n",
       "  &quot;layersControl&quot;: true,\n",
       "}\n",
       "\n",
       "                }\n",
       "            );\n",
       "            L.control.scale().addTo(map_b7364f3530a9710bc7cddf2d2b6a45f0);\n",
       "\n",
       "            \n",
       "\n",
       "        \n",
       "    \n",
       "            var tile_layer_46da8cbaa3978583f83c9ee5c1cd5ed2 = L.tileLayer(\n",
       "                &quot;https://tile.openstreetmap.org/{z}/{x}/{y}.png&quot;,\n",
       "                {\n",
       "  &quot;minZoom&quot;: 0,\n",
       "  &quot;maxZoom&quot;: 24,\n",
       "  &quot;maxNativeZoom&quot;: 24,\n",
       "  &quot;noWrap&quot;: false,\n",
       "  &quot;attribution&quot;: &quot;\\u0026copy; \\u003ca href=\\&quot;https://www.openstreetmap.org/copyright\\&quot;\\u003eOpenStreetMap\\u003c/a\\u003e contributors&quot;,\n",
       "  &quot;subdomains&quot;: &quot;abc&quot;,\n",
       "  &quot;detectRetina&quot;: false,\n",
       "  &quot;tms&quot;: false,\n",
       "  &quot;opacity&quot;: 1,\n",
       "}\n",
       "\n",
       "            );\n",
       "        \n",
       "    \n",
       "            tile_layer_46da8cbaa3978583f83c9ee5c1cd5ed2.addTo(map_b7364f3530a9710bc7cddf2d2b6a45f0);\n",
       "        \n",
       "    \n",
       "            L.control.fullscreen(\n",
       "                {\n",
       "  &quot;position&quot;: &quot;topleft&quot;,\n",
       "  &quot;title&quot;: &quot;Full Screen&quot;,\n",
       "  &quot;titleCancel&quot;: &quot;Exit Full Screen&quot;,\n",
       "  &quot;forceSeparateButton&quot;: false,\n",
       "}\n",
       "            ).addTo(map_b7364f3530a9710bc7cddf2d2b6a45f0);\n",
       "        \n",
       "    \n",
       "            var options = {\n",
       "              position: &quot;topleft&quot;,\n",
       "              draw: {},\n",
       "              edit: {},\n",
       "            }\n",
       "                // FeatureGroup is to store editable layers.\n",
       "                var drawnItems_draw_control_1521fee28334bdf9bff2cfb81fa7aef9 =\n",
       "                    new L.featureGroup().addTo(\n",
       "                        map_b7364f3530a9710bc7cddf2d2b6a45f0\n",
       "                    );\n",
       "\n",
       "            options.edit.featureGroup = drawnItems_draw_control_1521fee28334bdf9bff2cfb81fa7aef9;\n",
       "            var draw_control_1521fee28334bdf9bff2cfb81fa7aef9 = new L.Control.Draw(\n",
       "                options\n",
       "            ).addTo( map_b7364f3530a9710bc7cddf2d2b6a45f0 );\n",
       "            map_b7364f3530a9710bc7cddf2d2b6a45f0.on(L.Draw.Event.CREATED, function(e) {\n",
       "                var layer = e.layer,\n",
       "                    type = e.layerType;\n",
       "                var coords = JSON.stringify(layer.toGeoJSON());\n",
       "                layer.on(&#x27;click&#x27;, function() {\n",
       "                    alert(coords);\n",
       "                    console.log(coords);\n",
       "                });\n",
       "                drawnItems_draw_control_1521fee28334bdf9bff2cfb81fa7aef9.addLayer(layer);\n",
       "            });\n",
       "            map_b7364f3530a9710bc7cddf2d2b6a45f0.on(&#x27;draw:created&#x27;, function(e) {\n",
       "                drawnItems_draw_control_1521fee28334bdf9bff2cfb81fa7aef9.addLayer(e.layer);\n",
       "            });\n",
       "\n",
       "            \n",
       "        \n",
       "    \n",
       "\n",
       "            var geocoderOpts_geocoder_42a982c49d52b12da83157b629407bdb = {\n",
       "  &quot;collapsed&quot;: true,\n",
       "  &quot;position&quot;: &quot;topleft&quot;,\n",
       "  &quot;defaultMarkGeocode&quot;: true,\n",
       "  &quot;zoom&quot;: 11,\n",
       "  &quot;provider&quot;: &quot;nominatim&quot;,\n",
       "  &quot;providerOptions&quot;: {\n",
       "},\n",
       "};\n",
       "\n",
       "            // note: geocoder name should start with lowercase\n",
       "            var geocoderName_geocoder_42a982c49d52b12da83157b629407bdb = geocoderOpts_geocoder_42a982c49d52b12da83157b629407bdb[&quot;provider&quot;];\n",
       "\n",
       "            var customGeocoder_geocoder_42a982c49d52b12da83157b629407bdb = L.Control.Geocoder[ geocoderName_geocoder_42a982c49d52b12da83157b629407bdb ](\n",
       "                geocoderOpts_geocoder_42a982c49d52b12da83157b629407bdb[&#x27;providerOptions&#x27;]\n",
       "            );\n",
       "            geocoderOpts_geocoder_42a982c49d52b12da83157b629407bdb[&quot;geocoder&quot;] = customGeocoder_geocoder_42a982c49d52b12da83157b629407bdb;\n",
       "\n",
       "            L.Control.geocoder(\n",
       "                geocoderOpts_geocoder_42a982c49d52b12da83157b629407bdb\n",
       "            ).on(&#x27;markgeocode&#x27;, function(e) {\n",
       "                var zoom = geocoderOpts_geocoder_42a982c49d52b12da83157b629407bdb[&#x27;zoom&#x27;] || map_b7364f3530a9710bc7cddf2d2b6a45f0.getZoom();\n",
       "                map_b7364f3530a9710bc7cddf2d2b6a45f0.setView(e.geocode.center, zoom);\n",
       "            }).addTo(map_b7364f3530a9710bc7cddf2d2b6a45f0);\n",
       "\n",
       "        \n",
       "    \n",
       "            map_b7364f3530a9710bc7cddf2d2b6a45f0.fitBounds(\n",
       "                [[40, -100], [40, -100]],\n",
       "                {&quot;maxZoom&quot;: 4}\n",
       "            );\n",
       "        \n",
       "    \n",
       "            var macro_element_524af78a5678bcacd5eeb957d3e055c9 = L.tileLayer.wms(\n",
       "                &quot;https://services.terrascope.be/wms/v2?&quot;,\n",
       "                {&quot;attribution&quot;: &quot;ESA&quot;, &quot;format&quot;: &quot;image/png&quot;, &quot;layers&quot;: &quot;WORLDCOVER_2021_MAP&quot;, &quot;styles&quot;: &quot;&quot;, &quot;transparent&quot;: true, &quot;version&quot;: &quot;1.1.1&quot;}\n",
       "            );\n",
       "        \n",
       "    \n",
       "            macro_element_524af78a5678bcacd5eeb957d3e055c9.addTo(map_b7364f3530a9710bc7cddf2d2b6a45f0);\n",
       "        \n",
       "    \n",
       "            var layer_control_8502f2cc209f86395911c709ca32ad65_layers = {\n",
       "                base_layers : {\n",
       "                    &quot;openstreetmap&quot; : tile_layer_46da8cbaa3978583f83c9ee5c1cd5ed2,\n",
       "                },\n",
       "                overlays :  {\n",
       "                    &quot;WorldCover 2021&quot; : macro_element_524af78a5678bcacd5eeb957d3e055c9,\n",
       "                },\n",
       "            };\n",
       "            let layer_control_8502f2cc209f86395911c709ca32ad65 = L.control.layers(\n",
       "                layer_control_8502f2cc209f86395911c709ca32ad65_layers.base_layers,\n",
       "                layer_control_8502f2cc209f86395911c709ca32ad65_layers.overlays,\n",
       "                {\n",
       "  &quot;position&quot;: &quot;topright&quot;,\n",
       "  &quot;collapsed&quot;: true,\n",
       "  &quot;autoZIndex&quot;: true,\n",
       "}\n",
       "            ).addTo(map_b7364f3530a9710bc7cddf2d2b6a45f0);\n",
       "\n",
       "        \n",
       "&lt;/script&gt;\n",
       "&lt;/html&gt;\" width=\"100%\" height=\"600\"style=\"border:none !important;\" \"allowfullscreen\" \"webkitallowfullscreen\" \"mozallowfullscreen\"></iframe>"
      ],
      "text/plain": [
       "<leafmap.foliumap.Map at 0x1d8d4b8dc60>"
      ]
     },
     "execution_count": 4,
     "metadata": {},
     "output_type": "execute_result"
    }
   ],
   "source": [
    "m = foliumap.Map(center=[40, -100], zoom=4) # NOTE: the default leafmap backend doesn't seem to display the legend correctly\n",
    "\n",
    "url = \"https://services.terrascope.be/wms/v2?\"\n",
    "m.add_wms_layer(\n",
    "    url=url,\n",
    "    layers=\"WORLDCOVER_2021_MAP\",\n",
    "    name=\"WorldCover 2021\",\n",
    "    attribution=\"ESA\",\n",
    "    format=\"image/png\",\n",
    "    shown=True,\n",
    ")\n",
    "\n",
    "m.add_legend(\n",
    "    title=\"ESA WorldCover (2021)\",\n",
    "    builtin_legend=\"ESA_WorldCover\",\n",
    "    position=\"bottomright\",\n",
    ")\n",
    "m"
   ]
  },
  {
   "cell_type": "markdown",
   "id": "6",
   "metadata": {},
   "source": [
    "## Question 3: Creating Marker Clusters\n",
    "\n",
    "1. Create a marker cluster visualization from a GeoJSON file of building centroids:\n",
    "   - URL: https://github.com/opengeos/datasets/releases/download/places/wa_building_centroids.geojson\n",
    "   - Hint: Read the GeoJSON file using GeoPandas and add \"latitude\" and \"longitude\" columns to the GeoDataFrame.\n",
    "2. Create circle markers for each building centroid using the `Map.add_circle_markers_from_xy()` method with the following styling:\n",
    "   - Radius: 5\n",
    "   - Outline color: \"red\"\n",
    "   - Fill color: \"yellow\"\n",
    "   - Fill opacity: 0.8"
   ]
  },
  {
   "cell_type": "code",
   "execution_count": 5,
   "id": "457a7808",
   "metadata": {},
   "outputs": [],
   "source": [
    "def read_geojson_and_add_longtitude_and_attitude(url: str) -> gpd.GeoDataFrame:\n",
    "    gdf = gpd.read_file(url)\n",
    "    gdf[\"longitude\"] = gdf.geometry.x\n",
    "    gdf[\"latitude\"] = gdf.geometry.y\n",
    "    return gdf"
   ]
  },
  {
   "cell_type": "code",
   "execution_count": 6,
   "id": "7",
   "metadata": {},
   "outputs": [
    {
     "data": {
      "application/vnd.jupyter.widget-view+json": {
       "model_id": "78676cb042f34c67afd32fcf3f44cefa",
       "version_major": 2,
       "version_minor": 0
      },
      "text/plain": [
       "Map(center=[47.5, -120], controls=(ZoomControl(options=['position', 'zoom_in_text', 'zoom_in_title', 'zoom_out…"
      ]
     },
     "execution_count": 6,
     "metadata": {},
     "output_type": "execute_result"
    }
   ],
   "source": [
    "url = \"https://github.com/opengeos/datasets/releases/download/places/wa_building_centroids.geojson\"\n",
    "gdf = read_geojson_and_add_longtitude_and_attitude(url)\n",
    "\n",
    "m1 = leafmap.Map(center=[47.5, -120], zoom=7)\n",
    "m1.add_marker_cluster(gdf, x=\"longitude\", y=\"latitude\", layer_name=\"Buildings\")\n",
    "m1"
   ]
  },
  {
   "cell_type": "code",
   "execution_count": 7,
   "id": "2bd8f574",
   "metadata": {},
   "outputs": [
    {
     "data": {
      "application/vnd.jupyter.widget-view+json": {
       "model_id": "4c8af704c0e64ed290fcc2d61c8baac5",
       "version_major": 2,
       "version_minor": 0
      },
      "text/plain": [
       "Map(center=[47.5, -120], controls=(ZoomControl(options=['position', 'zoom_in_text', 'zoom_in_title', 'zoom_out…"
      ]
     },
     "execution_count": 7,
     "metadata": {},
     "output_type": "execute_result"
    }
   ],
   "source": [
    "url = \"https://github.com/opengeos/datasets/releases/download/places/wa_building_centroids.geojson\"\n",
    "gdf = read_geojson_and_add_longtitude_and_attitude(url)\n",
    "\n",
    "m2 = leafmap.Map(center=[47.5, -120], zoom=7)\n",
    "m2.add_circle_markers_from_xy(\n",
    "    gdf,\n",
    "    x=\"longitude\",\n",
    "    y=\"latitude\",\n",
    "    radius=5,\n",
    "    color=\"red\",\n",
    "    fill_color=\"yellow\",\n",
    "    fill_opacity=0.8,\n",
    "    layer_name=\"Buildings\"\n",
    ")\n",
    "m2"
   ]
  },
  {
   "cell_type": "markdown",
   "id": "11",
   "metadata": {},
   "source": [
    "## Question 4: Visualizing Vector Data\n",
    "\n",
    "1. Visualize the building polygons GeoJSON file and style it with:\n",
    "\n",
    "   - Outline color: \"red\"\n",
    "   - No fill color\n",
    "   - URL: https://github.com/opengeos/datasets/releases/download/places/wa_overture_buildings.geojson\n",
    "\n",
    "2. Visualize the road polylines GeoJSON file and style it with:\n",
    "\n",
    "   - Line color: \"red\"\n",
    "   - Line width: 2\n",
    "   - URL: https://github.com/opengeos/datasets/releases/download/places/las_vegas_roads.geojson\n",
    "\n",
    "3. Create a choropleth map of county areas in the US:\n",
    "   - URL: https://github.com/opengeos/datasets/releases/download/us/us_counties.geojson\n",
    "   - Column: `CENSUSAREA`"
   ]
  },
  {
   "cell_type": "code",
   "execution_count": 8,
   "id": "68900696",
   "metadata": {},
   "outputs": [],
   "source": [
    "def read_geojson_and_explore(url: str) -> gpd.GeoDataFrame:\n",
    "    gdf = gpd.read_file(url)\n",
    "    gdf.explore()\n",
    "    return gdf"
   ]
  },
  {
   "cell_type": "code",
   "execution_count": 9,
   "id": "12",
   "metadata": {},
   "outputs": [
    {
     "data": {
      "application/vnd.jupyter.widget-view+json": {
       "model_id": "cd7c1b1c40bf4b9db88bfee722444ce0",
       "version_major": 2,
       "version_minor": 0
      },
      "text/plain": [
       "Map(center=[47.5, -120], controls=(ZoomControl(options=['position', 'zoom_in_text', 'zoom_in_title', 'zoom_out…"
      ]
     },
     "execution_count": 9,
     "metadata": {},
     "output_type": "execute_result"
    }
   ],
   "source": [
    "url=\"https://github.com/opengeos/datasets/releases/download/places/wa_overture_buildings.geojson\"\n",
    "gdf = read_geojson_and_explore(url)\n",
    "\n",
    "m = leafmap.Map(center=[47.5, -120], zoom=7)\n",
    "m.add_basemap(\"Esri.WorldImagery\")\n",
    "style = {\"color\": \"red\", \"fillOpacity\": 0}\n",
    "m.add_gdf(gdf, style=style, layer_name=\"Building Outlines\", zoom_to_layer=True)\n",
    "m"
   ]
  },
  {
   "cell_type": "code",
   "execution_count": 10,
   "id": "14",
   "metadata": {},
   "outputs": [
    {
     "data": {
      "application/vnd.jupyter.widget-view+json": {
       "model_id": "183637a8f59c42f2957d2991024f4a9e",
       "version_major": 2,
       "version_minor": 0
      },
      "text/plain": [
       "Map(center=[47.5, -120], controls=(ZoomControl(options=['position', 'zoom_in_text', 'zoom_in_title', 'zoom_out…"
      ]
     },
     "execution_count": 10,
     "metadata": {},
     "output_type": "execute_result"
    }
   ],
   "source": [
    "url=\"https://github.com/opengeos/datasets/releases/download/places/las_vegas_roads.geojson\"\n",
    "gdf = read_geojson_and_explore(url)\n",
    "\n",
    "m = leafmap.Map(center=[47.5, -120], zoom=7)\n",
    "m.add_basemap(\"Esri.WorldImagery\")\n",
    "style = {\"color\": \"red\",  \"weight\": 2}\n",
    "m.add_gdf(gdf, style=style, layer_name=\"Road Polygons\", zoom_to_layer=True)\n",
    "m"
   ]
  },
  {
   "cell_type": "code",
   "execution_count": 11,
   "id": "16",
   "metadata": {},
   "outputs": [
    {
     "data": {
      "application/vnd.jupyter.widget-view+json": {
       "model_id": "91217e0e31da4f98b21049a723c9b033",
       "version_major": 2,
       "version_minor": 0
      },
      "text/plain": [
       "Map(center=[20, 0], controls=(ZoomControl(options=['position', 'zoom_in_text', 'zoom_in_title', 'zoom_out_text…"
      ]
     },
     "execution_count": 11,
     "metadata": {},
     "output_type": "execute_result"
    }
   ],
   "source": [
    "\n",
    "data = \"https://github.com/opengeos/datasets/releases/download/us/us_counties.geojson\"\n",
    "m = leafmap.Map()\n",
    "m.add_data(\n",
    "    data,\n",
    "    column=\"CENSUSAREA\",\n",
    "    cmap=\"Blues\",\n",
    "    scheme=\"Quantiles\",\n",
    ")\n",
    "m"
   ]
  },
  {
   "cell_type": "markdown",
   "id": "17",
   "metadata": {},
   "source": [
    "## Exercise 5: Creating a Split Map\n",
    "\n",
    "1. Create a split map to compare imagery of Libya before and after the 2023 flood event:\n",
    "\n",
    "   - Pre-event imagery: https://github.com/opengeos/datasets/releases/download/raster/Libya-2023-07-01.tif\n",
    "   - Post-event imagery: https://github.com/opengeos/datasets/releases/download/raster/Libya-2023-09-13.tif"
   ]
  },
  {
   "cell_type": "code",
   "execution_count": 12,
   "id": "18",
   "metadata": {},
   "outputs": [
    {
     "data": {
      "application/vnd.jupyter.widget-view+json": {
       "model_id": "95263c1a55564a8198611ad7c623469e",
       "version_major": 2,
       "version_minor": 0
      },
      "text/plain": [
       "Map(center=[39.494897, -108.507278], controls=(ZoomControl(options=['position', 'zoom_in_text', 'zoom_in_title…"
      ]
     },
     "execution_count": 12,
     "metadata": {},
     "output_type": "execute_result"
    }
   ],
   "source": [
    "m = leafmap.Map(center=[39.494897, -108.507278], zoom=10)\n",
    "url = \"https://github.com/opengeos/datasets/releases/download/raster/Libya-2023-07-01.tif\"\n",
    "url2 = \"https://github.com/opengeos/datasets/releases/download/raster/Libya-2023-09-13.tif\"\n",
    "m.split_map(\n",
    "    left_layer=url, right_layer=url2, left_label=\"Pre-event\", right_label=\"Post-event\"\n",
    ")\n",
    "m"
   ]
  }
 ],
 "metadata": {
  "kernelspec": {
   "display_name": ".venv",
   "language": "python",
   "name": "python3"
  },
  "language_info": {
   "codemirror_mode": {
    "name": "ipython",
    "version": 3
   },
   "file_extension": ".py",
   "mimetype": "text/x-python",
   "name": "python",
   "nbconvert_exporter": "python",
   "pygments_lexer": "ipython3",
   "version": "3.10.6"
  }
 },
 "nbformat": 4,
 "nbformat_minor": 5
}
