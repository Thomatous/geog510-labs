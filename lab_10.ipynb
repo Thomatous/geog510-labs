{
 "cells": [
  {
   "cell_type": "markdown",
   "metadata": {},
   "source": [
    "# Lab 10\n",
    "\n",
    "[![Open In Colab](https://colab.research.google.com/assets/colab-badge.svg)](https://colab.research.google.com/github/Thomatous/geog510-labs/blob/main/lab_10.ipynb)"
   ]
  },
  {
   "cell_type": "code",
   "execution_count": null,
   "metadata": {},
   "outputs": [],
   "source": [
    "%pip install -q -U \"geemap[workshop]\""
   ]
  },
  {
   "cell_type": "code",
   "execution_count": null,
   "metadata": {},
   "outputs": [],
   "source": [
    "import ee\n",
    "import geemap"
   ]
  },
  {
   "cell_type": "code",
   "execution_count": null,
   "metadata": {},
   "outputs": [],
   "source": [
    "# ee.Authenticate(force=True)"
   ]
  },
  {
   "cell_type": "code",
   "execution_count": null,
   "metadata": {},
   "outputs": [],
   "source": [
    "geemap.ee_initialize()"
   ]
  },
  {
   "cell_type": "markdown",
   "metadata": {},
   "source": [
    "## Overview\n",
    "\n",
    "This lab introduces Google Earth Engine (GEE) for accessing and analyzing geospatial data in Python. You will explore diverse data types, including DEM, satellite imagery, and land cover datasets. You’ll gain experience creating cloud-free composites, visualizing temporal changes, and generating animations for time-series data.\n",
    "\n",
    "\n",
    "## Objectives\n",
    "\n",
    "By completing this lab, you will be able to:\n",
    "\n",
    "1. Access and visualize Digital Elevation Model (DEM) data for a specific region.\n",
    "2. Generate cloud-free composites from Sentinel-2 or Landsat imagery for a specified year.\n",
    "3. Visualize National Agricultural Imagery Program (NAIP) data for U.S. counties.\n",
    "4. Display watershed boundaries using Earth Engine styling.\n",
    "5. Visualize land cover changes over time using split-panel maps.\n",
    "6. Create a time-lapse animation for land cover changes over time in a region of your choice."
   ]
  },
  {
   "cell_type": "markdown",
   "metadata": {},
   "source": [
    "## Exercise 1: Visualizing DEM Data\n",
    "\n",
    "Find a DEM dataset in the [Earth Engine Data Catalog](https://developers.google.com/earth-engine/datasets) and clip it to a specific area (e.g., your country, state, or city). Display it with an appropriate color palette. For example, the sample map below shows the DEM of the state of Colorado.\n",
    "\n",
    "![](https://i.imgur.com/OLeSt7n.png)"
   ]
  },
  {
   "cell_type": "code",
   "execution_count": null,
   "metadata": {},
   "outputs": [],
   "source": [
    "from collections import namedtuple\n",
    "Region = namedtuple('Region', ['bbox', 'highest_point', 'center'])\n",
    "\n",
    "peloponnese = Region(\n",
    "    bbox=ee.Geometry.BBox(20.315, 36.08, 24.267,  38.526),\n",
    "    highest_point=2405,\n",
    "    center=[37.303, 22.291],\n",
    ")"
   ]
  },
  {
   "cell_type": "code",
   "execution_count": null,
   "metadata": {},
   "outputs": [],
   "source": [
    "m_elevation = geemap.Map(center=peloponnese.center, zoom=8, height=\"600px\")\n",
    "\n",
    "dataset = ee.Image('CGIAR/SRTM90_V4')\n",
    "elevation = dataset.select('elevation')\n",
    "elevation_clipped = elevation.clip(peloponnese.bbox)\n",
    "\n",
    "outline = ee.FeatureCollection(ee.Feature(peloponnese.bbox))\n",
    "outline_styled = outline.style(\n",
    "    color='FF0000',       \n",
    "    width=2,              \n",
    "    fillColor='00000000'\n",
    ")\n",
    "\n",
    "m_elevation.addLayer(elevation_clipped, {'min': 0, 'max': peloponnese.highest_point, 'palette': 'terrain'}, 'Elevation')\n",
    "m_elevation.addLayer(outline_styled, {}, 'Boundary')\n",
    "m_elevation"
   ]
  },
  {
   "cell_type": "markdown",
   "metadata": {},
   "source": [
    "## Exercise 2: Cloud-Free Composite with Sentinel-2 or Landsat\n",
    "\n",
    "Use Sentinel-2 or Landsat-9 data to create a cloud-free composite for a specific year in a region of your choice.\n",
    "\n",
    "Use [Sentinel-2](https://developers.google.com/earth-engine/datasets/catalog/COPERNICUS_S2_SR_HARMONIZED) or [Landsat-9 data](https://developers.google.com/earth-engine/datasets/catalog/landsat-9) data to create a cloud-free composite for a specific year in a region of your choice. Display the imagery on the map with a proper band combination. For example, the sample map below shows a cloud-free false-color composite of Sentinel-2 imagery of the year 2021 for the state of Colorado. \n",
    "\n",
    "![](https://i.imgur.com/xkxpkS1.png)"
   ]
  },
  {
   "cell_type": "code",
   "execution_count": null,
   "metadata": {},
   "outputs": [],
   "source": [
    "# NOTE: https://developers.google.com/earth-engine/guides/landsat#simple-composite\n",
    "\n",
    "collection = ee.ImageCollection('LANDSAT/LT05/C02/T1').filterDate(\n",
    "    '2010-01-01', '2010-12-31'\n",
    ")\n",
    "\n",
    "composite = ee.Algorithms.Landsat.simpleComposite(collection)\n",
    "composite_clipped = composite.clip(peloponnese.bbox)\n",
    "\n",
    "outline = ee.FeatureCollection(ee.Feature(peloponnese.bbox))\n",
    "outline_styled = outline.style(\n",
    "    color='000000',       \n",
    "    width=2,              \n",
    "    fillColor='00000000'\n",
    ")\n",
    "\n",
    "m_landsat = geemap.Map(center=peloponnese.center, zoom=8, height=\"600px\")\n",
    "m_landsat.add_layer(\n",
    "    composite_clipped, {'bands': ['B4', 'B3', 'B2'], 'max': 128}, 'Landsat'\n",
    ")\n",
    "m_landsat.addLayer(outline_styled, {}, 'Boundary')\n",
    "m_landsat\n"
   ]
  },
  {
   "cell_type": "markdown",
   "metadata": {},
   "source": [
    "## Exercise 3: Visualizing NAIP Imagery\n",
    "\n",
    "Use [NAIP](https://developers.google.com/earth-engine/datasets/catalog/USDA_NAIP_DOQQ) imagery to create a cloud-free imagery for a U.S. county of your choice. For example, the sample map below shows a cloud-free true-color composite of NAIP imagery for Knox County, Tennessee. Keep in mind that there might be some counties with the same name in different states, so make sure to select the correct county for the selected state.\n",
    "\n",
    "![](https://i.imgur.com/iZSGqGS.png)"
   ]
  },
  {
   "cell_type": "code",
   "execution_count": null,
   "metadata": {},
   "outputs": [],
   "source": [
    "counties = ee.FeatureCollection('TIGER/2018/Counties')\n",
    "county = counties.filter(\n",
    "    ee.Filter.And(\n",
    "        ee.Filter.eq('NAME', 'Inyo'),\n",
    "        ee.Filter.eq('STATEFP', '06')\n",
    "    )\n",
    ")\n",
    "\n",
    "naip = ee.ImageCollection('USDA/NAIP/DOQQ').filterBounds(county.geometry()).filterDate('2018-01-01', '2022-12-31')\n",
    "clipped_naip = naip.median().clip(county.geometry())\n",
    "\n",
    "m_naip = geemap.Map(center=[36.5, -117], zoom=7)\n",
    "m_naip.addLayer(clipped_naip, { }, 'NAIP')\n",
    "\n",
    "boundary = county.style(**{\n",
    "    'color': 'FF0000',\n",
    "    'width': 2,\n",
    "    'fillColor': '00000000'\n",
    "})\n",
    "m_naip.addLayer(boundary, {}, 'Boundary')\n",
    "m_naip\n"
   ]
  },
  {
   "cell_type": "markdown",
   "metadata": {},
   "source": [
    "## Exercise 4: Visualizing Watershed Boundaries\n",
    "\n",
    "Visualize the [USGS Watershed Boundary Dataset](https://developers.google.com/earth-engine/datasets/catalog/USGS_WBD_2017_HUC04) with outline color only, no fill color.\n",
    "\n",
    "![](https://i.imgur.com/PLlNFq3.png)"
   ]
  },
  {
   "cell_type": "code",
   "execution_count": null,
   "metadata": {},
   "outputs": [],
   "source": [
    "basins = ee.FeatureCollection('USGS/WBD/2017/HUC04')\n",
    "\n",
    "m = geemap.Map(center=[40, -100], zoom=4, height=\"600px\")\n",
    "\n",
    "style_params = {\n",
    "    'color': '0000FF',       \n",
    "    'width': 2,\n",
    "    'fillColor': '00000000' \n",
    "}\n",
    "styled = basins.style(**style_params)\n",
    "\n",
    "m.add_layer(styled, {}, 'Basins')\n",
    "m"
   ]
  },
  {
   "cell_type": "markdown",
   "metadata": {},
   "source": [
    "## Exercise 5: Visualizing Land Cover Change\n",
    "\n",
    "Use the [USGS National Land Cover Database](https://developers.google.com/earth-engine/datasets/catalog/USGS_NLCD_RELEASES_2019_REL_NLCD) and [US Census States](https://developers.google.com/earth-engine/datasets/catalog/TIGER_2018_States) to create a split-panel map for visualizing land cover change (2001-2019) for a US state of your choice. Make sure you add the NLCD legend to the map.\n",
    "\n",
    "![](https://i.imgur.com/Au7Q5Ln.png)"
   ]
  },
  {
   "cell_type": "code",
   "execution_count": null,
   "metadata": {},
   "outputs": [],
   "source": [
    "from geemap.legends import builtin_legends\n",
    "\n",
    "states = ee.FeatureCollection(\"TIGER/2018/States\")\n",
    "state = states.filter(ee.Filter.eq(\"NAME\", \"Minnesota\"))\n",
    "\n",
    "nlcd_2001 = ee.Image(\"USGS/NLCD_RELEASES/2019_REL/NLCD/2001\").select(\"landcover\").clip(state.geometry())\n",
    "nlcd_2019 = ee.Image(\"USGS/NLCD_RELEASES/2019_REL/NLCD/2019\").select(\"landcover\").clip(state.geometry())\n",
    "\n",
    "left_layer = geemap.ee_tile_layer(nlcd_2001, {}, \"NLCD 2001\")\n",
    "right_layer = geemap.ee_tile_layer(nlcd_2019, {}, \"NLCD 2019\")\n",
    "\n",
    "m = geemap.Map()\n",
    "\n",
    "left_layer = geemap.ee_tile_layer(nlcd_2001, {}, \"NLCD 2001\")\n",
    "right_layer = geemap.ee_tile_layer(nlcd_2019, {}, \"NLCD 2019\")\n",
    "\n",
    "m.split_map(left_layer, right_layer)\n",
    "m.center_object(state, 7)\n",
    "m.add_legend(builtin_legend=\"NLCD\", max_width=\"100px\", height=\"455px\")\n",
    "m"
   ]
  },
  {
   "cell_type": "markdown",
   "metadata": {},
   "source": [
    "## Exercise 6: Creating a Landsat Timelapse Animation\n",
    "\n",
    "Generate a timelapse animation using Landsat data to show changes over time for a selected region.\n",
    "\n",
    "![Spain](https://github.com/user-attachments/assets/f12839c0-1c30-404d-b0ab-0fa12ce12d24)"
   ]
  },
  {
   "cell_type": "code",
   "execution_count": null,
   "metadata": {},
   "outputs": [],
   "source": [
    "roi = ee.Geometry.BBox(742.643509, 39.393224, 743.010864, 39.597488)\n",
    "timelapse = geemap.landsat_timelapse(\n",
    "    roi,\n",
    "    out_gif=\"lake_karla.gif\",\n",
    "    start_year=1984,\n",
    "    end_year=2023,\n",
    "    bands=[\"SWIR1\", \"NIR\", \"Red\"],\n",
    "    frames_per_second=3,\n",
    "    title=\"Restoration of lake Karla, Thessaly, Greece\",\n",
    "    font_color=\"#202020\",\n",
    ")\n",
    "geemap.show_image(timelapse)\n"
   ]
  }
 ],
 "metadata": {
  "kernelspec": {
   "display_name": ".venv",
   "language": "python",
   "name": "python3"
  },
  "language_info": {
   "codemirror_mode": {
    "name": "ipython",
    "version": 3
   },
   "file_extension": ".py",
   "mimetype": "text/x-python",
   "name": "python",
   "nbconvert_exporter": "python",
   "pygments_lexer": "ipython3",
   "version": "3.10.6"
  }
 },
 "nbformat": 4,
 "nbformat_minor": 2
}
